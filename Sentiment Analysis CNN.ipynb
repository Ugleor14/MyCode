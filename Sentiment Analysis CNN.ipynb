{
 "cells": [
  {
   "cell_type": "code",
   "execution_count": 3,
   "metadata": {},
   "outputs": [],
   "source": [
    "%matplotlib inline\n",
    "%config IPCompleter.greedy=True \n",
    "import numpy as np #библиотека массивов и матриц\n",
    "import matplotlib.pyplot as plt #низкоуровневая библиотека отображения графиков\n",
    "import seaborn as sns # высокоуровневая библиотека визуализации\n",
    "import pandas as pd # библиотека работы с графиками\n",
    "import re #библиотека для работы с текстами\n",
    "import pickle\n",
    "import logging"
   ]
  },
  {
   "cell_type": "markdown",
   "metadata": {},
   "source": [
    "# библиотеки для машинного обучения "
   ]
  },
  {
   "cell_type": "code",
   "execution_count": 4,
   "metadata": {},
   "outputs": [
    {
     "name": "stderr",
     "output_type": "stream",
     "text": [
      "C:\\Anaconda3\\lib\\site-packages\\gensim\\utils.py:1197: UserWarning: detected Windows; aliasing chunkize to chunkize_serial\n",
      "  warnings.warn(\"detected Windows; aliasing chunkize to chunkize_serial\")\n"
     ]
    }
   ],
   "source": [
    "from sklearn.model_selection import train_test_split\n",
    "from sklearn.metrics import classification_report\n",
    "from gensim.models import Word2Vec"
   ]
  },
  {
   "cell_type": "markdown",
   "metadata": {},
   "source": [
    "# подключаем библиотеку keras"
   ]
  },
  {
   "cell_type": "code",
   "execution_count": 5,
   "metadata": {},
   "outputs": [
    {
     "name": "stderr",
     "output_type": "stream",
     "text": [
      "Using TensorFlow backend.\n"
     ]
    }
   ],
   "source": [
    "from keras import backend as K\n",
    "from keras.preprocessing.text import Tokenizer\n",
    "from keras.preprocessing.sequence import pad_sequences\n",
    "from keras import optimizers\n",
    "from keras.layers import Dense, concatenate, Activation, Dropout\n",
    "from keras.models import Model\n",
    "from keras.models import load_model\n",
    "from keras.layers.convolutional import Conv1D\n",
    "from keras.layers.pooling import GlobalMaxPooling1D\n",
    "from keras.layers import Input\n",
    "from keras.layers.embeddings import Embedding\n",
    "from keras.callbacks import ModelCheckpoint"
   ]
  },
  {
   "cell_type": "markdown",
   "metadata": {},
   "source": [
    "# библиотека для пост обработки"
   ]
  },
  {
   "cell_type": "code",
   "execution_count": null,
   "metadata": {},
   "outputs": [],
   "source": []
  },
  {
   "cell_type": "markdown",
   "metadata": {},
   "source": [
    "# размеры входной матрицы модели"
   ]
  },
  {
   "cell_type": "code",
   "execution_count": 8,
   "metadata": {},
   "outputs": [],
   "source": [
    "SENTENCE_LENGTH = 26 # Высота матрицы (максимальное количество слов в предложении)\n",
    "NUM = 100000         # размер словаря"
   ]
  },
  {
   "cell_type": "markdown",
   "metadata": {},
   "source": [
    "# метод отчистки текста"
   ]
  },
  {
   "cell_type": "code",
   "execution_count": 1,
   "metadata": {},
   "outputs": [],
   "source": [
    "def ClearText(text):\n",
    "    text = text.lower().replace(\"ё\", \"е\")\n",
    "    text = re.sub('((www\\.[^\\s]+)|(https?://[^\\s]+))', 'URL', text)\n",
    "    text = re.sub('@[^\\s]+', 'USER', text)\n",
    "    text = re.sub('[^a-zA-Zа-яА-Я1-9]+', ' ', text)\n",
    "    text = re.sub(' +', ' ', text)\n",
    "    return text.strip()"
   ]
  },
  {
   "cell_type": "code",
   "execution_count": null,
   "metadata": {},
   "outputs": [],
   "source": [
    "\n"
   ]
  },
  {
   "cell_type": "code",
   "execution_count": 7,
   "metadata": {},
   "outputs": [
    {
     "name": "stdout",
     "output_type": "stream",
     "text": [
      "сказать видеть наступать грабли разочаровывать натравлять\n",
      "Wall time: 1.12 s\n"
     ]
    }
   ],
   "source": []
  },
  {
   "cell_type": "raw",
   "metadata": {},
   "source": []
  },
  {
   "cell_type": "code",
   "execution_count": 2,
   "metadata": {},
   "outputs": [
    {
     "ename": "NameError",
     "evalue": "name 'pd' is not defined",
     "output_type": "error",
     "traceback": [
      "\u001b[1;31m---------------------------------------------------------------------------\u001b[0m",
      "\u001b[1;31mNameError\u001b[0m                                 Traceback (most recent call last)",
      "\u001b[1;32m<ipython-input-2-83d59850309c>\u001b[0m in \u001b[0;36m<module>\u001b[1;34m\u001b[0m\n\u001b[0;32m      1\u001b[0m \u001b[0mn\u001b[0m \u001b[1;33m=\u001b[0m \u001b[1;33m[\u001b[0m\u001b[1;34m'id'\u001b[0m\u001b[1;33m,\u001b[0m \u001b[1;34m'date'\u001b[0m\u001b[1;33m,\u001b[0m \u001b[1;34m'name'\u001b[0m\u001b[1;33m,\u001b[0m \u001b[1;34m'text'\u001b[0m\u001b[1;33m,\u001b[0m \u001b[1;34m'typr'\u001b[0m\u001b[1;33m,\u001b[0m \u001b[1;34m'rep'\u001b[0m\u001b[1;33m,\u001b[0m \u001b[1;34m'rtw'\u001b[0m\u001b[1;33m,\u001b[0m \u001b[1;34m'faw'\u001b[0m\u001b[1;33m,\u001b[0m \u001b[1;34m'stcount'\u001b[0m\u001b[1;33m,\u001b[0m \u001b[1;34m'foll'\u001b[0m\u001b[1;33m,\u001b[0m \u001b[1;34m'frien'\u001b[0m\u001b[1;33m,\u001b[0m \u001b[1;34m'listcount'\u001b[0m\u001b[1;33m]\u001b[0m\u001b[1;33m\u001b[0m\u001b[1;33m\u001b[0m\u001b[0m\n\u001b[1;32m----> 2\u001b[1;33m \u001b[0mdata_positive\u001b[0m \u001b[1;33m=\u001b[0m \u001b[0mpd\u001b[0m\u001b[1;33m.\u001b[0m\u001b[0mread_csv\u001b[0m\u001b[1;33m(\u001b[0m\u001b[1;34m'../data/positive.csv'\u001b[0m\u001b[1;33m,\u001b[0m \u001b[0msep\u001b[0m\u001b[1;33m=\u001b[0m\u001b[1;34m';'\u001b[0m\u001b[1;33m,\u001b[0m \u001b[0merror_bad_lines\u001b[0m\u001b[1;33m=\u001b[0m\u001b[1;32mFalse\u001b[0m\u001b[1;33m,\u001b[0m \u001b[0mnames\u001b[0m\u001b[1;33m=\u001b[0m\u001b[0mn\u001b[0m\u001b[1;33m,\u001b[0m \u001b[0musecols\u001b[0m\u001b[1;33m=\u001b[0m\u001b[1;33m[\u001b[0m\u001b[1;34m'text'\u001b[0m\u001b[1;33m]\u001b[0m\u001b[1;33m)\u001b[0m\u001b[1;33m\u001b[0m\u001b[1;33m\u001b[0m\u001b[0m\n\u001b[0m\u001b[0;32m      3\u001b[0m \u001b[0mdata_negative\u001b[0m \u001b[1;33m=\u001b[0m \u001b[0mpd\u001b[0m\u001b[1;33m.\u001b[0m\u001b[0mread_csv\u001b[0m\u001b[1;33m(\u001b[0m\u001b[1;34m'../data/negative.csv'\u001b[0m\u001b[1;33m,\u001b[0m \u001b[0msep\u001b[0m\u001b[1;33m=\u001b[0m\u001b[1;34m';'\u001b[0m\u001b[1;33m,\u001b[0m \u001b[0merror_bad_lines\u001b[0m\u001b[1;33m=\u001b[0m\u001b[1;32mFalse\u001b[0m\u001b[1;33m,\u001b[0m \u001b[0mnames\u001b[0m\u001b[1;33m=\u001b[0m\u001b[0mn\u001b[0m\u001b[1;33m,\u001b[0m \u001b[0musecols\u001b[0m\u001b[1;33m=\u001b[0m\u001b[1;33m[\u001b[0m\u001b[1;34m'text'\u001b[0m\u001b[1;33m]\u001b[0m\u001b[1;33m)\u001b[0m\u001b[1;33m\u001b[0m\u001b[1;33m\u001b[0m\u001b[0m\n",
      "\u001b[1;31mNameError\u001b[0m: name 'pd' is not defined"
     ]
    }
   ],
   "source": [
    "n = ['id', 'date', 'name', 'text', 'typr', 'rep', 'rtw', 'faw', 'stcount', 'foll', 'frien', 'listcount']\n",
    "data_positive = pd.read_csv('../data/positive.csv', sep=';', error_bad_lines=False, names=n, usecols=['text'])\n",
    "data_negative = pd.read_csv('../data/negative.csv', sep=';', error_bad_lines=False, names=n, usecols=['text'])"
   ]
  },
  {
   "cell_type": "code",
   "execution_count": 12,
   "metadata": {},
   "outputs": [
    {
     "name": "stdout",
     "output_type": "stream",
     "text": [
      "Wall time: 0 ns\n"
     ]
    }
   ],
   "source": []
  },
  {
   "cell_type": "code",
   "execution_count": 1,
   "metadata": {},
   "outputs": [],
   "source": []
  },
  {
   "cell_type": "code",
   "execution_count": null,
   "metadata": {},
   "outputs": [],
   "source": []
  },
  {
   "cell_type": "code",
   "execution_count": null,
   "metadata": {},
   "outputs": [],
   "source": []
  },
  {
   "cell_type": "code",
   "execution_count": null,
   "metadata": {},
   "outputs": [],
   "source": []
  },
  {
   "cell_type": "code",
   "execution_count": 6,
   "metadata": {},
   "outputs": [],
   "source": [
    "sample_size = min(data_positive.shape[0], data_negative.shape[0])\n",
    "raw_data = np.concatenate((data_positive['text'].values[:sample_size],\n",
    "                           data_negative['text'].values[:sample_size]), axis=0)\n",
    "labels = [1] * sample_size + [0] * sample_size"
   ]
  },
  {
   "cell_type": "code",
   "execution_count": 11,
   "metadata": {},
   "outputs": [
    {
     "name": "stdout",
     "output_type": "stream",
     "text": [
      "['школоть поверять самый d общество профилирующий предмет тип', 'весь таки немного похожий мальчик весь равный хороший d', 'rt идиотка испугаться', 'rt угол сидеть погибать голод 2 порция взять хотя жрать хотеть dd']\n"
     ]
    }
   ],
   "source": []
  },
  {
   "cell_type": "code",
   "execution_count": null,
   "metadata": {},
   "outputs": [],
   "source": []
  },
  {
   "cell_type": "code",
   "execution_count": 22,
   "metadata": {},
   "outputs": [],
   "source": [
    "data = [ClearText(t) for t in raw_data]"
   ]
  },
  {
   "cell_type": "code",
   "execution_count": null,
   "metadata": {},
   "outputs": [],
   "source": []
  },
  {
   "cell_type": "code",
   "execution_count": 23,
   "metadata": {},
   "outputs": [],
   "source": [
    "x_train, x_test, y_train, y_test = train_test_split(data, labels, test_size=0.2, random_state=1)"
   ]
  },
  {
   "cell_type": "code",
   "execution_count": 27,
   "metadata": {},
   "outputs": [],
   "source": [
    "with open('../data/x_test.pickle', 'wb') as handle:\n",
    "    pickle.dump(x_test, handle, protocol=pickle.HIGHEST_PROTOCOL)"
   ]
  },
  {
   "cell_type": "code",
   "execution_count": 28,
   "metadata": {},
   "outputs": [],
   "source": [
    "with open('../data/y_test.pickle', 'wb') as handle:\n",
    "    pickle.dump(y_test, handle, protocol=pickle.HIGHEST_PROTOCOL)"
   ]
  },
  {
   "cell_type": "markdown",
   "metadata": {},
   "source": [
    "# токенизатор предложений"
   ]
  },
  {
   "cell_type": "code",
   "execution_count": 9,
   "metadata": {},
   "outputs": [
    {
     "ename": "NameError",
     "evalue": "name 'x_train' is not defined",
     "output_type": "error",
     "traceback": [
      "\u001b[1;31m---------------------------------------------------------------------------\u001b[0m",
      "\u001b[1;31mNameError\u001b[0m                                 Traceback (most recent call last)",
      "\u001b[1;32m<ipython-input-9-96ec5ee78746>\u001b[0m in \u001b[0;36m<module>\u001b[1;34m\u001b[0m\n\u001b[0;32m      1\u001b[0m \u001b[0mtokenizer\u001b[0m \u001b[1;33m=\u001b[0m \u001b[0mTokenizer\u001b[0m\u001b[1;33m(\u001b[0m\u001b[0mnum_words\u001b[0m\u001b[1;33m=\u001b[0m\u001b[0mNUM\u001b[0m\u001b[1;33m)\u001b[0m\u001b[1;33m\u001b[0m\u001b[1;33m\u001b[0m\u001b[0m\n\u001b[1;32m----> 2\u001b[1;33m \u001b[0mtokenizer\u001b[0m\u001b[1;33m.\u001b[0m\u001b[0mfit_on_texts\u001b[0m\u001b[1;33m(\u001b[0m\u001b[0mx_train\u001b[0m\u001b[1;33m)\u001b[0m\u001b[1;33m\u001b[0m\u001b[1;33m\u001b[0m\u001b[0m\n\u001b[0m",
      "\u001b[1;31mNameError\u001b[0m: name 'x_train' is not defined"
     ]
    }
   ],
   "source": [
    "tokenizer = Tokenizer(num_words=NUM)\n",
    "tokenizer.fit_on_texts(x_train)"
   ]
  },
  {
   "cell_type": "markdown",
   "metadata": {},
   "source": [
    "# сохраняем токенизатор"
   ]
  },
  {
   "cell_type": "code",
   "execution_count": null,
   "metadata": {},
   "outputs": [],
   "source": [
    "with open('cnn/tokenizer.pickle', 'wb') as handle:\n",
    "    pickle.dump(tokenizer, handle, protocol=pickle.HIGHEST_PROTOCOL)"
   ]
  },
  {
   "cell_type": "markdown",
   "metadata": {},
   "source": [
    "# загружаем токенизатор"
   ]
  },
  {
   "cell_type": "code",
   "execution_count": 10,
   "metadata": {},
   "outputs": [],
   "source": [
    "with open('model/tokenizer.pickle', 'rb') as handle:\n",
    "    tokenizer = pickle.load(handle)"
   ]
  },
  {
   "cell_type": "code",
   "execution_count": null,
   "metadata": {},
   "outputs": [],
   "source": []
  },
  {
   "cell_type": "markdown",
   "metadata": {},
   "source": [
    "# методы вычисления ошибки и точности (метрики)"
   ]
  },
  {
   "cell_type": "code",
   "execution_count": 11,
   "metadata": {},
   "outputs": [],
   "source": [
    "def precision(y_true, y_pred):\n",
    "    true_positives = K.sum(K.round(K.clip(y_true * y_pred, 0, 1)))\n",
    "    predicted_positives = K.sum(K.round(K.clip(y_pred, 0, 1)))\n",
    "    precision = true_positives / (predicted_positives + K.epsilon())\n",
    "    return precision\n",
    "\n",
    "\n",
    "def recall(y_true, y_pred):\n",
    "    true_positives = K.sum(K.round(K.clip(y_true * y_pred, 0, 1)))\n",
    "    possible_positives = K.sum(K.round(K.clip(y_true, 0, 1)))\n",
    "    recall = true_positives / (possible_positives + K.epsilon())\n",
    "    return recall\n",
    "\n",
    "\n",
    "def f1(y_true, y_pred):\n",
    "    def recall(y_true, y_pred):\n",
    "        true_positives = K.sum(K.round(K.clip(y_true * y_pred, 0, 1)))\n",
    "        possible_positives = K.sum(K.round(K.clip(y_true, 0, 1)))\n",
    "        recall = true_positives / (possible_positives + K.epsilon())\n",
    "        return recall\n",
    "\n",
    "    def precision(y_true, y_pred):\n",
    "        true_positives = K.sum(K.round(K.clip(y_true * y_pred, 0, 1)))\n",
    "        predicted_positives = K.sum(K.round(K.clip(y_pred, 0, 1)))\n",
    "        precision = true_positives / (predicted_positives + K.epsilon())\n",
    "        return precision\n",
    "\n",
    "    precision = precision(y_true, y_pred)\n",
    "    recall = recall(y_true, y_pred)\n",
    "    return 2 * ((precision * recall) / (precision + recall + K.epsilon()))"
   ]
  },
  {
   "cell_type": "markdown",
   "metadata": {},
   "source": [
    "# метод для преобразования предложения"
   ]
  },
  {
   "cell_type": "code",
   "execution_count": 12,
   "metadata": {},
   "outputs": [],
   "source": [
    "def GetSequences(tokenizer, x):\n",
    "    sequences = tokenizer.texts_to_sequences(x)\n",
    "    return pad_sequences(sequences, maxlen=SENTENCE_LENGTH)"
   ]
  },
  {
   "cell_type": "markdown",
   "metadata": {},
   "source": [
    "# метод для выставления оценки"
   ]
  },
  {
   "cell_type": "code",
   "execution_count": 13,
   "metadata": {},
   "outputs": [],
   "source": [
    "def GetAnalis(text):\n",
    "    clear = ClearText(text)\n",
    "    test = GetSequences(tokenizer, [clear])\n",
    "    predicted = model.predict(test)\n",
    "    print('предложение: {}'.format(text))\n",
    "    print('предобработанное предложение: {}' .format(clear))\n",
    "    print('Результат: {} оценка: ' .format(predicted),\n",
    "          'положительная' if predicted > 0.5 else 'негативная')"
   ]
  },
  {
   "cell_type": "markdown",
   "metadata": {},
   "source": [
    "# метод визуализации"
   ]
  },
  {
   "cell_type": "code",
   "execution_count": 14,
   "metadata": {},
   "outputs": [],
   "source": [
    "plt.style.use('ggplot')\n",
    "\n",
    "\n",
    "def plot_metrix(ax, x1, x2, title):\n",
    "    ax.plot(range(1, len(x1) + 1), x1, label='train')\n",
    "    ax.plot(range(1, len(x2) + 1), x2, label='val')\n",
    "    ax.set_ylabel(title)\n",
    "    ax.set_xlabel('Epoch')\n",
    "    ax.legend()\n",
    "    ax.margins(0)\n",
    "\n",
    "\n",
    "def plot_history(history):\n",
    "    fig, axes = plt.subplots(ncols=2, nrows=2, figsize=(16, 9))\n",
    "    ax1, ax2, ax3, ax4 = axes.ravel()\n",
    "    plot_metrix(ax1, history.history['precision'], history.history['val_precision'], 'Precision')\n",
    "    plot_metrix(ax2, history.history['recall'], history.history['val_recall'], 'Recall')\n",
    "    plot_metrix(ax3, history.history['f1'], history.history['val_f1'], \"$F_1$\")\n",
    "    plot_metrix(ax4, history.history['loss'], history.history['val_loss'], 'Loss')\n",
    "    plt.show()"
   ]
  },
  {
   "cell_type": "markdown",
   "metadata": {},
   "source": [
    "# преобразуем предложения."
   ]
  },
  {
   "cell_type": "code",
   "execution_count": 30,
   "metadata": {},
   "outputs": [],
   "source": [
    "x_train_seq = GetSequences(tokenizer, x_train)\n",
    "x_test_seq = GetSequences(tokenizer, x_test)"
   ]
  },
  {
   "cell_type": "code",
   "execution_count": 31,
   "metadata": {},
   "outputs": [],
   "source": [
    "with open('../data/x_test.pickle', 'wb') as handle:\n",
    "    pickle.dump(x_test_seq, handle, protocol=pickle.HIGHEST_PROTOCOL)"
   ]
  },
  {
   "cell_type": "markdown",
   "metadata": {},
   "source": [
    "# модель word2vec"
   ]
  },
  {
   "cell_type": "code",
   "execution_count": 15,
   "metadata": {},
   "outputs": [
    {
     "name": "stderr",
     "output_type": "stream",
     "text": [
      "C:\\Anaconda3\\lib\\site-packages\\smart_open\\smart_open_lib.py:398: UserWarning: This function is deprecated, use smart_open.open instead. See the migration notes for details: https://github.com/RaRe-Technologies/smart_open/blob/master/README.rst#migrating-to-the-new-open-function\n",
      "  'See the migration notes for details: %s' % _MIGRATION_NOTES_URL\n"
     ]
    }
   ],
   "source": [
    "w2v_model = Word2Vec.load(\"../Word2vec/model/model.w2v\")"
   ]
  },
  {
   "cell_type": "code",
   "execution_count": 16,
   "metadata": {},
   "outputs": [],
   "source": [
    "DIM = w2v_model.vector_size \n",
    "# Инициализируем матрицу embedding слоя нулями\n",
    "embedding_matrix = np.zeros((NUM, DIM))\n",
    "# Добавляем NUM=100000 наиболее часто встречающихся слов из обучающей выборки в embedding слой\n",
    "for word, i in tokenizer.word_index.items():\n",
    "    if i >= NUM:\n",
    "        break\n",
    "    if word in w2v_model.wv.vocab.keys():\n",
    "        embedding_matrix[i] = w2v_model.wv[word]"
   ]
  },
  {
   "cell_type": "markdown",
   "metadata": {},
   "source": [
    "# инициализируем слои модели"
   ]
  },
  {
   "cell_type": "code",
   "execution_count": 17,
   "metadata": {},
   "outputs": [
    {
     "name": "stdout",
     "output_type": "stream",
     "text": [
      "WARNING:tensorflow:From C:\\Anaconda3\\lib\\site-packages\\tensorflow\\python\\framework\\op_def_library.py:263: colocate_with (from tensorflow.python.framework.ops) is deprecated and will be removed in a future version.\n",
      "Instructions for updating:\n",
      "Colocations handled automatically by placer.\n"
     ]
    }
   ],
   "source": [
    "LayorInput = Input(shape=(SENTENCE_LENGTH,), dtype='int32')\n",
    "LayorEncoded = Embedding(NUM, DIM, input_length=SENTENCE_LENGTH,\n",
    "                          weights=[embedding_matrix], trainable=False)(LayorInput)"
   ]
  },
  {
   "cell_type": "markdown",
   "metadata": {},
   "source": [
    "# создаем CNN модель"
   ]
  },
  {
   "cell_type": "code",
   "execution_count": 21,
   "metadata": {},
   "outputs": [
    {
     "name": "stdout",
     "output_type": "stream",
     "text": [
      "10\n"
     ]
    }
   ],
   "source": [
    "branches = []\n",
    "x = Dropout(rate = 0.2)(LayorEncoded)\n",
    "\n",
    "for size, filters_count in [(2, 10), (3, 10), (4, 10), (5, 10)]:\n",
    "    for i in range(filters_count):\n",
    "        branch = Conv1D(filters=1, kernel_size=size, padding='valid', activation='relu')(x)\n",
    "        branch = GlobalMaxPooling1D()(branch)\n",
    "        branches.append(branch)\n",
    "\n",
    "x = concatenate(branches, axis=1)\n",
    "x = Dropout(rate = 0.2)(x)\n",
    "x = Dense(30, activation='relu')(x)\n",
    "x = Dense(1)(x)\n",
    "output = Activation('sigmoid')(x)\n",
    "print(filters_count)"
   ]
  },
  {
   "cell_type": "code",
   "execution_count": 22,
   "metadata": {},
   "outputs": [
    {
     "name": "stdout",
     "output_type": "stream",
     "text": [
      "__________________________________________________________________________________________________\n",
      "Layer (type)                    Output Shape         Param #     Connected to                     \n",
      "==================================================================================================\n",
      "input_1 (InputLayer)            (None, 26)           0                                            \n",
      "__________________________________________________________________________________________________\n",
      "embedding_1 (Embedding)         (None, 26, 200)      20000000    input_1[0][0]                    \n",
      "__________________________________________________________________________________________________\n",
      "dropout_5 (Dropout)             (None, 26, 200)      0           embedding_1[0][0]                \n",
      "__________________________________________________________________________________________________\n",
      "conv1d_81 (Conv1D)              (None, 25, 1)        401         dropout_5[0][0]                  \n",
      "__________________________________________________________________________________________________\n",
      "conv1d_82 (Conv1D)              (None, 25, 1)        401         dropout_5[0][0]                  \n",
      "__________________________________________________________________________________________________\n",
      "conv1d_83 (Conv1D)              (None, 25, 1)        401         dropout_5[0][0]                  \n",
      "__________________________________________________________________________________________________\n",
      "conv1d_84 (Conv1D)              (None, 25, 1)        401         dropout_5[0][0]                  \n",
      "__________________________________________________________________________________________________\n",
      "conv1d_85 (Conv1D)              (None, 25, 1)        401         dropout_5[0][0]                  \n",
      "__________________________________________________________________________________________________\n",
      "conv1d_86 (Conv1D)              (None, 25, 1)        401         dropout_5[0][0]                  \n",
      "__________________________________________________________________________________________________\n",
      "conv1d_87 (Conv1D)              (None, 25, 1)        401         dropout_5[0][0]                  \n",
      "__________________________________________________________________________________________________\n",
      "conv1d_88 (Conv1D)              (None, 25, 1)        401         dropout_5[0][0]                  \n",
      "__________________________________________________________________________________________________\n",
      "conv1d_89 (Conv1D)              (None, 25, 1)        401         dropout_5[0][0]                  \n",
      "__________________________________________________________________________________________________\n",
      "conv1d_90 (Conv1D)              (None, 25, 1)        401         dropout_5[0][0]                  \n",
      "__________________________________________________________________________________________________\n",
      "conv1d_91 (Conv1D)              (None, 24, 1)        601         dropout_5[0][0]                  \n",
      "__________________________________________________________________________________________________\n",
      "conv1d_92 (Conv1D)              (None, 24, 1)        601         dropout_5[0][0]                  \n",
      "__________________________________________________________________________________________________\n",
      "conv1d_93 (Conv1D)              (None, 24, 1)        601         dropout_5[0][0]                  \n",
      "__________________________________________________________________________________________________\n",
      "conv1d_94 (Conv1D)              (None, 24, 1)        601         dropout_5[0][0]                  \n",
      "__________________________________________________________________________________________________\n",
      "conv1d_95 (Conv1D)              (None, 24, 1)        601         dropout_5[0][0]                  \n",
      "__________________________________________________________________________________________________\n",
      "conv1d_96 (Conv1D)              (None, 24, 1)        601         dropout_5[0][0]                  \n",
      "__________________________________________________________________________________________________\n",
      "conv1d_97 (Conv1D)              (None, 24, 1)        601         dropout_5[0][0]                  \n",
      "__________________________________________________________________________________________________\n",
      "conv1d_98 (Conv1D)              (None, 24, 1)        601         dropout_5[0][0]                  \n",
      "__________________________________________________________________________________________________\n",
      "conv1d_99 (Conv1D)              (None, 24, 1)        601         dropout_5[0][0]                  \n",
      "__________________________________________________________________________________________________\n",
      "conv1d_100 (Conv1D)             (None, 24, 1)        601         dropout_5[0][0]                  \n",
      "__________________________________________________________________________________________________\n",
      "conv1d_101 (Conv1D)             (None, 23, 1)        801         dropout_5[0][0]                  \n",
      "__________________________________________________________________________________________________\n",
      "conv1d_102 (Conv1D)             (None, 23, 1)        801         dropout_5[0][0]                  \n",
      "__________________________________________________________________________________________________\n",
      "conv1d_103 (Conv1D)             (None, 23, 1)        801         dropout_5[0][0]                  \n",
      "__________________________________________________________________________________________________\n",
      "conv1d_104 (Conv1D)             (None, 23, 1)        801         dropout_5[0][0]                  \n",
      "__________________________________________________________________________________________________\n",
      "conv1d_105 (Conv1D)             (None, 23, 1)        801         dropout_5[0][0]                  \n",
      "__________________________________________________________________________________________________\n",
      "conv1d_106 (Conv1D)             (None, 23, 1)        801         dropout_5[0][0]                  \n",
      "__________________________________________________________________________________________________\n",
      "conv1d_107 (Conv1D)             (None, 23, 1)        801         dropout_5[0][0]                  \n",
      "__________________________________________________________________________________________________\n",
      "conv1d_108 (Conv1D)             (None, 23, 1)        801         dropout_5[0][0]                  \n",
      "__________________________________________________________________________________________________\n",
      "conv1d_109 (Conv1D)             (None, 23, 1)        801         dropout_5[0][0]                  \n",
      "__________________________________________________________________________________________________\n",
      "conv1d_110 (Conv1D)             (None, 23, 1)        801         dropout_5[0][0]                  \n",
      "__________________________________________________________________________________________________\n",
      "conv1d_111 (Conv1D)             (None, 22, 1)        1001        dropout_5[0][0]                  \n",
      "__________________________________________________________________________________________________\n",
      "conv1d_112 (Conv1D)             (None, 22, 1)        1001        dropout_5[0][0]                  \n",
      "__________________________________________________________________________________________________\n",
      "conv1d_113 (Conv1D)             (None, 22, 1)        1001        dropout_5[0][0]                  \n",
      "__________________________________________________________________________________________________\n",
      "conv1d_114 (Conv1D)             (None, 22, 1)        1001        dropout_5[0][0]                  \n",
      "__________________________________________________________________________________________________\n",
      "conv1d_115 (Conv1D)             (None, 22, 1)        1001        dropout_5[0][0]                  \n",
      "__________________________________________________________________________________________________\n",
      "conv1d_116 (Conv1D)             (None, 22, 1)        1001        dropout_5[0][0]                  \n",
      "__________________________________________________________________________________________________\n",
      "conv1d_117 (Conv1D)             (None, 22, 1)        1001        dropout_5[0][0]                  \n",
      "__________________________________________________________________________________________________\n",
      "conv1d_118 (Conv1D)             (None, 22, 1)        1001        dropout_5[0][0]                  \n",
      "__________________________________________________________________________________________________\n",
      "conv1d_119 (Conv1D)             (None, 22, 1)        1001        dropout_5[0][0]                  \n",
      "__________________________________________________________________________________________________\n",
      "conv1d_120 (Conv1D)             (None, 22, 1)        1001        dropout_5[0][0]                  \n",
      "__________________________________________________________________________________________________\n",
      "global_max_pooling1d_81 (Global (None, 1)            0           conv1d_81[0][0]                  \n",
      "__________________________________________________________________________________________________\n",
      "global_max_pooling1d_82 (Global (None, 1)            0           conv1d_82[0][0]                  \n",
      "__________________________________________________________________________________________________\n",
      "global_max_pooling1d_83 (Global (None, 1)            0           conv1d_83[0][0]                  \n",
      "__________________________________________________________________________________________________\n",
      "global_max_pooling1d_84 (Global (None, 1)            0           conv1d_84[0][0]                  \n",
      "__________________________________________________________________________________________________\n",
      "global_max_pooling1d_85 (Global (None, 1)            0           conv1d_85[0][0]                  \n",
      "__________________________________________________________________________________________________\n",
      "global_max_pooling1d_86 (Global (None, 1)            0           conv1d_86[0][0]                  \n",
      "__________________________________________________________________________________________________\n",
      "global_max_pooling1d_87 (Global (None, 1)            0           conv1d_87[0][0]                  \n",
      "__________________________________________________________________________________________________\n",
      "global_max_pooling1d_88 (Global (None, 1)            0           conv1d_88[0][0]                  \n",
      "__________________________________________________________________________________________________\n",
      "global_max_pooling1d_89 (Global (None, 1)            0           conv1d_89[0][0]                  \n",
      "__________________________________________________________________________________________________\n",
      "global_max_pooling1d_90 (Global (None, 1)            0           conv1d_90[0][0]                  \n",
      "__________________________________________________________________________________________________\n",
      "global_max_pooling1d_91 (Global (None, 1)            0           conv1d_91[0][0]                  \n",
      "__________________________________________________________________________________________________\n",
      "global_max_pooling1d_92 (Global (None, 1)            0           conv1d_92[0][0]                  \n",
      "__________________________________________________________________________________________________\n",
      "global_max_pooling1d_93 (Global (None, 1)            0           conv1d_93[0][0]                  \n",
      "__________________________________________________________________________________________________\n",
      "global_max_pooling1d_94 (Global (None, 1)            0           conv1d_94[0][0]                  \n",
      "__________________________________________________________________________________________________\n",
      "global_max_pooling1d_95 (Global (None, 1)            0           conv1d_95[0][0]                  \n",
      "__________________________________________________________________________________________________\n",
      "global_max_pooling1d_96 (Global (None, 1)            0           conv1d_96[0][0]                  \n",
      "__________________________________________________________________________________________________\n",
      "global_max_pooling1d_97 (Global (None, 1)            0           conv1d_97[0][0]                  \n",
      "__________________________________________________________________________________________________\n",
      "global_max_pooling1d_98 (Global (None, 1)            0           conv1d_98[0][0]                  \n",
      "__________________________________________________________________________________________________\n",
      "global_max_pooling1d_99 (Global (None, 1)            0           conv1d_99[0][0]                  \n",
      "__________________________________________________________________________________________________\n",
      "global_max_pooling1d_100 (Globa (None, 1)            0           conv1d_100[0][0]                 \n",
      "__________________________________________________________________________________________________\n",
      "global_max_pooling1d_101 (Globa (None, 1)            0           conv1d_101[0][0]                 \n",
      "__________________________________________________________________________________________________\n",
      "global_max_pooling1d_102 (Globa (None, 1)            0           conv1d_102[0][0]                 \n",
      "__________________________________________________________________________________________________\n",
      "global_max_pooling1d_103 (Globa (None, 1)            0           conv1d_103[0][0]                 \n",
      "__________________________________________________________________________________________________\n",
      "global_max_pooling1d_104 (Globa (None, 1)            0           conv1d_104[0][0]                 \n",
      "__________________________________________________________________________________________________\n",
      "global_max_pooling1d_105 (Globa (None, 1)            0           conv1d_105[0][0]                 \n",
      "__________________________________________________________________________________________________\n",
      "global_max_pooling1d_106 (Globa (None, 1)            0           conv1d_106[0][0]                 \n",
      "__________________________________________________________________________________________________\n",
      "global_max_pooling1d_107 (Globa (None, 1)            0           conv1d_107[0][0]                 \n",
      "__________________________________________________________________________________________________\n",
      "global_max_pooling1d_108 (Globa (None, 1)            0           conv1d_108[0][0]                 \n",
      "__________________________________________________________________________________________________\n",
      "global_max_pooling1d_109 (Globa (None, 1)            0           conv1d_109[0][0]                 \n",
      "__________________________________________________________________________________________________\n",
      "global_max_pooling1d_110 (Globa (None, 1)            0           conv1d_110[0][0]                 \n",
      "__________________________________________________________________________________________________\n",
      "global_max_pooling1d_111 (Globa (None, 1)            0           conv1d_111[0][0]                 \n",
      "__________________________________________________________________________________________________\n",
      "global_max_pooling1d_112 (Globa (None, 1)            0           conv1d_112[0][0]                 \n",
      "__________________________________________________________________________________________________\n",
      "global_max_pooling1d_113 (Globa (None, 1)            0           conv1d_113[0][0]                 \n",
      "__________________________________________________________________________________________________\n",
      "global_max_pooling1d_114 (Globa (None, 1)            0           conv1d_114[0][0]                 \n",
      "__________________________________________________________________________________________________\n",
      "global_max_pooling1d_115 (Globa (None, 1)            0           conv1d_115[0][0]                 \n",
      "__________________________________________________________________________________________________\n",
      "global_max_pooling1d_116 (Globa (None, 1)            0           conv1d_116[0][0]                 \n",
      "__________________________________________________________________________________________________\n",
      "global_max_pooling1d_117 (Globa (None, 1)            0           conv1d_117[0][0]                 \n",
      "__________________________________________________________________________________________________\n",
      "global_max_pooling1d_118 (Globa (None, 1)            0           conv1d_118[0][0]                 \n",
      "__________________________________________________________________________________________________\n",
      "global_max_pooling1d_119 (Globa (None, 1)            0           conv1d_119[0][0]                 \n",
      "__________________________________________________________________________________________________\n",
      "global_max_pooling1d_120 (Globa (None, 1)            0           conv1d_120[0][0]                 \n",
      "__________________________________________________________________________________________________\n",
      "concatenate_3 (Concatenate)     (None, 40)           0           global_max_pooling1d_81[0][0]    \n",
      "                                                                 global_max_pooling1d_82[0][0]    \n",
      "                                                                 global_max_pooling1d_83[0][0]    \n",
      "                                                                 global_max_pooling1d_84[0][0]    \n",
      "                                                                 global_max_pooling1d_85[0][0]    \n",
      "                                                                 global_max_pooling1d_86[0][0]    \n",
      "                                                                 global_max_pooling1d_87[0][0]    \n",
      "                                                                 global_max_pooling1d_88[0][0]    \n",
      "                                                                 global_max_pooling1d_89[0][0]    \n",
      "                                                                 global_max_pooling1d_90[0][0]    \n",
      "                                                                 global_max_pooling1d_91[0][0]    \n",
      "                                                                 global_max_pooling1d_92[0][0]    \n",
      "                                                                 global_max_pooling1d_93[0][0]    \n",
      "                                                                 global_max_pooling1d_94[0][0]    \n",
      "                                                                 global_max_pooling1d_95[0][0]    \n",
      "                                                                 global_max_pooling1d_96[0][0]    \n",
      "                                                                 global_max_pooling1d_97[0][0]    \n",
      "                                                                 global_max_pooling1d_98[0][0]    \n",
      "                                                                 global_max_pooling1d_99[0][0]    \n",
      "                                                                 global_max_pooling1d_100[0][0]   \n",
      "                                                                 global_max_pooling1d_101[0][0]   \n",
      "                                                                 global_max_pooling1d_102[0][0]   \n",
      "                                                                 global_max_pooling1d_103[0][0]   \n",
      "                                                                 global_max_pooling1d_104[0][0]   \n",
      "                                                                 global_max_pooling1d_105[0][0]   \n",
      "                                                                 global_max_pooling1d_106[0][0]   \n",
      "                                                                 global_max_pooling1d_107[0][0]   \n",
      "                                                                 global_max_pooling1d_108[0][0]   \n",
      "                                                                 global_max_pooling1d_109[0][0]   \n",
      "                                                                 global_max_pooling1d_110[0][0]   \n",
      "                                                                 global_max_pooling1d_111[0][0]   \n",
      "                                                                 global_max_pooling1d_112[0][0]   \n",
      "                                                                 global_max_pooling1d_113[0][0]   \n",
      "                                                                 global_max_pooling1d_114[0][0]   \n",
      "                                                                 global_max_pooling1d_115[0][0]   \n",
      "                                                                 global_max_pooling1d_116[0][0]   \n",
      "                                                                 global_max_pooling1d_117[0][0]   \n",
      "                                                                 global_max_pooling1d_118[0][0]   \n",
      "                                                                 global_max_pooling1d_119[0][0]   \n",
      "                                                                 global_max_pooling1d_120[0][0]   \n",
      "__________________________________________________________________________________________________\n",
      "dropout_6 (Dropout)             (None, 40)           0           concatenate_3[0][0]              \n",
      "__________________________________________________________________________________________________\n",
      "dense_5 (Dense)                 (None, 30)           1230        dropout_6[0][0]                  \n",
      "__________________________________________________________________________________________________\n",
      "dense_6 (Dense)                 (None, 1)            31          dense_5[0][0]                    \n",
      "__________________________________________________________________________________________________\n",
      "activation_3 (Activation)       (None, 1)            0           dense_6[0][0]                    \n",
      "==================================================================================================\n",
      "Total params: 20,029,301\n",
      "Trainable params: 29,301\n",
      "Non-trainable params: 20,000,000\n",
      "__________________________________________________________________________________________________\n"
     ]
    }
   ],
   "source": [
    "model = Model(inputs=[LayorInput], outputs=[output])\n",
    "model.compile(loss='binary_crossentropy', optimizer='adam')\n",
    "model.summary()"
   ]
  },
  {
   "cell_type": "code",
   "execution_count": null,
   "metadata": {},
   "outputs": [],
   "source": [
    "del model "
   ]
  },
  {
   "cell_type": "markdown",
   "metadata": {},
   "source": [
    "# загружаем модель"
   ]
  },
  {
   "cell_type": "code",
   "execution_count": null,
   "metadata": {},
   "outputs": [],
   "source": [
    "model = load_model('cnn/model.h5py')"
   ]
  },
  {
   "cell_type": "markdown",
   "metadata": {},
   "source": [
    "# добавим кастомные метрики"
   ]
  },
  {
   "cell_type": "code",
   "execution_count": 23,
   "metadata": {},
   "outputs": [],
   "source": [
    "model.compile(loss='binary_crossentropy', optimizer='adam', metrics=[precision, recall, f1])"
   ]
  },
  {
   "cell_type": "markdown",
   "metadata": {},
   "source": [
    "# тренировка модели"
   ]
  },
  {
   "cell_type": "code",
   "execution_count": null,
   "metadata": {},
   "outputs": [],
   "source": [
    "checkpoint = ModelCheckpoint(\"cnn/cnn-frozen-embeddings-{epoch:02d}-{val_f1:.2f}.hdf5\", \n",
    "                             monitor='val_f1', save_best_only=True, mode='max', period=1)\n",
    "history = model.fit(x_train_seq, y_train, batch_size=32, epochs=10, validation_split=0.25, callbacks = [checkpoint])"
   ]
  },
  {
   "cell_type": "code",
   "execution_count": null,
   "metadata": {},
   "outputs": [],
   "source": [
    "plot_history(history)"
   ]
  },
  {
   "cell_type": "code",
   "execution_count": null,
   "metadata": {},
   "outputs": [],
   "source": [
    "model.load_weights('cnn/cnn-frozen-embeddings-05-0.77.hdf5')"
   ]
  },
  {
   "cell_type": "code",
   "execution_count": null,
   "metadata": {},
   "outputs": [],
   "source": [
    "predicted = np.round(model.predict(x_test_seq))\n",
    "print(classification_report(y_test, predicted, digits=5))"
   ]
  },
  {
   "cell_type": "code",
   "execution_count": 24,
   "metadata": {},
   "outputs": [
    {
     "name": "stdout",
     "output_type": "stream",
     "text": [
      "__________________________________________________________________________________________________\n",
      "Layer (type)                    Output Shape         Param #     Connected to                     \n",
      "==================================================================================================\n",
      "input_1 (InputLayer)            (None, 26)           0                                            \n",
      "__________________________________________________________________________________________________\n",
      "embedding_1 (Embedding)         (None, 26, 200)      20000000    input_1[0][0]                    \n",
      "__________________________________________________________________________________________________\n",
      "dropout_5 (Dropout)             (None, 26, 200)      0           embedding_1[0][0]                \n",
      "__________________________________________________________________________________________________\n",
      "conv1d_81 (Conv1D)              (None, 25, 1)        401         dropout_5[0][0]                  \n",
      "__________________________________________________________________________________________________\n",
      "conv1d_82 (Conv1D)              (None, 25, 1)        401         dropout_5[0][0]                  \n",
      "__________________________________________________________________________________________________\n",
      "conv1d_83 (Conv1D)              (None, 25, 1)        401         dropout_5[0][0]                  \n",
      "__________________________________________________________________________________________________\n",
      "conv1d_84 (Conv1D)              (None, 25, 1)        401         dropout_5[0][0]                  \n",
      "__________________________________________________________________________________________________\n",
      "conv1d_85 (Conv1D)              (None, 25, 1)        401         dropout_5[0][0]                  \n",
      "__________________________________________________________________________________________________\n",
      "conv1d_86 (Conv1D)              (None, 25, 1)        401         dropout_5[0][0]                  \n",
      "__________________________________________________________________________________________________\n",
      "conv1d_87 (Conv1D)              (None, 25, 1)        401         dropout_5[0][0]                  \n",
      "__________________________________________________________________________________________________\n",
      "conv1d_88 (Conv1D)              (None, 25, 1)        401         dropout_5[0][0]                  \n",
      "__________________________________________________________________________________________________\n",
      "conv1d_89 (Conv1D)              (None, 25, 1)        401         dropout_5[0][0]                  \n",
      "__________________________________________________________________________________________________\n",
      "conv1d_90 (Conv1D)              (None, 25, 1)        401         dropout_5[0][0]                  \n",
      "__________________________________________________________________________________________________\n",
      "conv1d_91 (Conv1D)              (None, 24, 1)        601         dropout_5[0][0]                  \n",
      "__________________________________________________________________________________________________\n",
      "conv1d_92 (Conv1D)              (None, 24, 1)        601         dropout_5[0][0]                  \n",
      "__________________________________________________________________________________________________\n",
      "conv1d_93 (Conv1D)              (None, 24, 1)        601         dropout_5[0][0]                  \n",
      "__________________________________________________________________________________________________\n",
      "conv1d_94 (Conv1D)              (None, 24, 1)        601         dropout_5[0][0]                  \n",
      "__________________________________________________________________________________________________\n",
      "conv1d_95 (Conv1D)              (None, 24, 1)        601         dropout_5[0][0]                  \n",
      "__________________________________________________________________________________________________\n",
      "conv1d_96 (Conv1D)              (None, 24, 1)        601         dropout_5[0][0]                  \n",
      "__________________________________________________________________________________________________\n",
      "conv1d_97 (Conv1D)              (None, 24, 1)        601         dropout_5[0][0]                  \n",
      "__________________________________________________________________________________________________\n",
      "conv1d_98 (Conv1D)              (None, 24, 1)        601         dropout_5[0][0]                  \n",
      "__________________________________________________________________________________________________\n",
      "conv1d_99 (Conv1D)              (None, 24, 1)        601         dropout_5[0][0]                  \n",
      "__________________________________________________________________________________________________\n",
      "conv1d_100 (Conv1D)             (None, 24, 1)        601         dropout_5[0][0]                  \n",
      "__________________________________________________________________________________________________\n",
      "conv1d_101 (Conv1D)             (None, 23, 1)        801         dropout_5[0][0]                  \n",
      "__________________________________________________________________________________________________\n",
      "conv1d_102 (Conv1D)             (None, 23, 1)        801         dropout_5[0][0]                  \n",
      "__________________________________________________________________________________________________\n",
      "conv1d_103 (Conv1D)             (None, 23, 1)        801         dropout_5[0][0]                  \n",
      "__________________________________________________________________________________________________\n",
      "conv1d_104 (Conv1D)             (None, 23, 1)        801         dropout_5[0][0]                  \n",
      "__________________________________________________________________________________________________\n",
      "conv1d_105 (Conv1D)             (None, 23, 1)        801         dropout_5[0][0]                  \n",
      "__________________________________________________________________________________________________\n",
      "conv1d_106 (Conv1D)             (None, 23, 1)        801         dropout_5[0][0]                  \n",
      "__________________________________________________________________________________________________\n",
      "conv1d_107 (Conv1D)             (None, 23, 1)        801         dropout_5[0][0]                  \n",
      "__________________________________________________________________________________________________\n",
      "conv1d_108 (Conv1D)             (None, 23, 1)        801         dropout_5[0][0]                  \n",
      "__________________________________________________________________________________________________\n",
      "conv1d_109 (Conv1D)             (None, 23, 1)        801         dropout_5[0][0]                  \n",
      "__________________________________________________________________________________________________\n",
      "conv1d_110 (Conv1D)             (None, 23, 1)        801         dropout_5[0][0]                  \n",
      "__________________________________________________________________________________________________\n",
      "conv1d_111 (Conv1D)             (None, 22, 1)        1001        dropout_5[0][0]                  \n",
      "__________________________________________________________________________________________________\n",
      "conv1d_112 (Conv1D)             (None, 22, 1)        1001        dropout_5[0][0]                  \n",
      "__________________________________________________________________________________________________\n",
      "conv1d_113 (Conv1D)             (None, 22, 1)        1001        dropout_5[0][0]                  \n",
      "__________________________________________________________________________________________________\n",
      "conv1d_114 (Conv1D)             (None, 22, 1)        1001        dropout_5[0][0]                  \n",
      "__________________________________________________________________________________________________\n",
      "conv1d_115 (Conv1D)             (None, 22, 1)        1001        dropout_5[0][0]                  \n",
      "__________________________________________________________________________________________________\n",
      "conv1d_116 (Conv1D)             (None, 22, 1)        1001        dropout_5[0][0]                  \n",
      "__________________________________________________________________________________________________\n",
      "conv1d_117 (Conv1D)             (None, 22, 1)        1001        dropout_5[0][0]                  \n",
      "__________________________________________________________________________________________________\n",
      "conv1d_118 (Conv1D)             (None, 22, 1)        1001        dropout_5[0][0]                  \n",
      "__________________________________________________________________________________________________\n",
      "conv1d_119 (Conv1D)             (None, 22, 1)        1001        dropout_5[0][0]                  \n",
      "__________________________________________________________________________________________________\n",
      "conv1d_120 (Conv1D)             (None, 22, 1)        1001        dropout_5[0][0]                  \n",
      "__________________________________________________________________________________________________\n",
      "global_max_pooling1d_81 (Global (None, 1)            0           conv1d_81[0][0]                  \n",
      "__________________________________________________________________________________________________\n",
      "global_max_pooling1d_82 (Global (None, 1)            0           conv1d_82[0][0]                  \n",
      "__________________________________________________________________________________________________\n",
      "global_max_pooling1d_83 (Global (None, 1)            0           conv1d_83[0][0]                  \n",
      "__________________________________________________________________________________________________\n",
      "global_max_pooling1d_84 (Global (None, 1)            0           conv1d_84[0][0]                  \n",
      "__________________________________________________________________________________________________\n",
      "global_max_pooling1d_85 (Global (None, 1)            0           conv1d_85[0][0]                  \n",
      "__________________________________________________________________________________________________\n",
      "global_max_pooling1d_86 (Global (None, 1)            0           conv1d_86[0][0]                  \n",
      "__________________________________________________________________________________________________\n",
      "global_max_pooling1d_87 (Global (None, 1)            0           conv1d_87[0][0]                  \n",
      "__________________________________________________________________________________________________\n",
      "global_max_pooling1d_88 (Global (None, 1)            0           conv1d_88[0][0]                  \n",
      "__________________________________________________________________________________________________\n",
      "global_max_pooling1d_89 (Global (None, 1)            0           conv1d_89[0][0]                  \n",
      "__________________________________________________________________________________________________\n",
      "global_max_pooling1d_90 (Global (None, 1)            0           conv1d_90[0][0]                  \n",
      "__________________________________________________________________________________________________\n",
      "global_max_pooling1d_91 (Global (None, 1)            0           conv1d_91[0][0]                  \n",
      "__________________________________________________________________________________________________\n",
      "global_max_pooling1d_92 (Global (None, 1)            0           conv1d_92[0][0]                  \n",
      "__________________________________________________________________________________________________\n",
      "global_max_pooling1d_93 (Global (None, 1)            0           conv1d_93[0][0]                  \n",
      "__________________________________________________________________________________________________\n",
      "global_max_pooling1d_94 (Global (None, 1)            0           conv1d_94[0][0]                  \n",
      "__________________________________________________________________________________________________\n",
      "global_max_pooling1d_95 (Global (None, 1)            0           conv1d_95[0][0]                  \n",
      "__________________________________________________________________________________________________\n",
      "global_max_pooling1d_96 (Global (None, 1)            0           conv1d_96[0][0]                  \n",
      "__________________________________________________________________________________________________\n",
      "global_max_pooling1d_97 (Global (None, 1)            0           conv1d_97[0][0]                  \n",
      "__________________________________________________________________________________________________\n",
      "global_max_pooling1d_98 (Global (None, 1)            0           conv1d_98[0][0]                  \n",
      "__________________________________________________________________________________________________\n",
      "global_max_pooling1d_99 (Global (None, 1)            0           conv1d_99[0][0]                  \n",
      "__________________________________________________________________________________________________\n",
      "global_max_pooling1d_100 (Globa (None, 1)            0           conv1d_100[0][0]                 \n",
      "__________________________________________________________________________________________________\n",
      "global_max_pooling1d_101 (Globa (None, 1)            0           conv1d_101[0][0]                 \n",
      "__________________________________________________________________________________________________\n",
      "global_max_pooling1d_102 (Globa (None, 1)            0           conv1d_102[0][0]                 \n",
      "__________________________________________________________________________________________________\n",
      "global_max_pooling1d_103 (Globa (None, 1)            0           conv1d_103[0][0]                 \n",
      "__________________________________________________________________________________________________\n",
      "global_max_pooling1d_104 (Globa (None, 1)            0           conv1d_104[0][0]                 \n",
      "__________________________________________________________________________________________________\n",
      "global_max_pooling1d_105 (Globa (None, 1)            0           conv1d_105[0][0]                 \n",
      "__________________________________________________________________________________________________\n",
      "global_max_pooling1d_106 (Globa (None, 1)            0           conv1d_106[0][0]                 \n",
      "__________________________________________________________________________________________________\n",
      "global_max_pooling1d_107 (Globa (None, 1)            0           conv1d_107[0][0]                 \n",
      "__________________________________________________________________________________________________\n",
      "global_max_pooling1d_108 (Globa (None, 1)            0           conv1d_108[0][0]                 \n",
      "__________________________________________________________________________________________________\n",
      "global_max_pooling1d_109 (Globa (None, 1)            0           conv1d_109[0][0]                 \n",
      "__________________________________________________________________________________________________\n",
      "global_max_pooling1d_110 (Globa (None, 1)            0           conv1d_110[0][0]                 \n",
      "__________________________________________________________________________________________________\n",
      "global_max_pooling1d_111 (Globa (None, 1)            0           conv1d_111[0][0]                 \n",
      "__________________________________________________________________________________________________\n",
      "global_max_pooling1d_112 (Globa (None, 1)            0           conv1d_112[0][0]                 \n",
      "__________________________________________________________________________________________________\n",
      "global_max_pooling1d_113 (Globa (None, 1)            0           conv1d_113[0][0]                 \n",
      "__________________________________________________________________________________________________\n",
      "global_max_pooling1d_114 (Globa (None, 1)            0           conv1d_114[0][0]                 \n",
      "__________________________________________________________________________________________________\n",
      "global_max_pooling1d_115 (Globa (None, 1)            0           conv1d_115[0][0]                 \n",
      "__________________________________________________________________________________________________\n",
      "global_max_pooling1d_116 (Globa (None, 1)            0           conv1d_116[0][0]                 \n",
      "__________________________________________________________________________________________________\n",
      "global_max_pooling1d_117 (Globa (None, 1)            0           conv1d_117[0][0]                 \n",
      "__________________________________________________________________________________________________\n",
      "global_max_pooling1d_118 (Globa (None, 1)            0           conv1d_118[0][0]                 \n",
      "__________________________________________________________________________________________________\n",
      "global_max_pooling1d_119 (Globa (None, 1)            0           conv1d_119[0][0]                 \n",
      "__________________________________________________________________________________________________\n",
      "global_max_pooling1d_120 (Globa (None, 1)            0           conv1d_120[0][0]                 \n",
      "__________________________________________________________________________________________________\n",
      "concatenate_3 (Concatenate)     (None, 40)           0           global_max_pooling1d_81[0][0]    \n",
      "                                                                 global_max_pooling1d_82[0][0]    \n",
      "                                                                 global_max_pooling1d_83[0][0]    \n",
      "                                                                 global_max_pooling1d_84[0][0]    \n",
      "                                                                 global_max_pooling1d_85[0][0]    \n",
      "                                                                 global_max_pooling1d_86[0][0]    \n",
      "                                                                 global_max_pooling1d_87[0][0]    \n",
      "                                                                 global_max_pooling1d_88[0][0]    \n",
      "                                                                 global_max_pooling1d_89[0][0]    \n",
      "                                                                 global_max_pooling1d_90[0][0]    \n",
      "                                                                 global_max_pooling1d_91[0][0]    \n",
      "                                                                 global_max_pooling1d_92[0][0]    \n",
      "                                                                 global_max_pooling1d_93[0][0]    \n",
      "                                                                 global_max_pooling1d_94[0][0]    \n",
      "                                                                 global_max_pooling1d_95[0][0]    \n",
      "                                                                 global_max_pooling1d_96[0][0]    \n",
      "                                                                 global_max_pooling1d_97[0][0]    \n",
      "                                                                 global_max_pooling1d_98[0][0]    \n",
      "                                                                 global_max_pooling1d_99[0][0]    \n",
      "                                                                 global_max_pooling1d_100[0][0]   \n",
      "                                                                 global_max_pooling1d_101[0][0]   \n",
      "                                                                 global_max_pooling1d_102[0][0]   \n",
      "                                                                 global_max_pooling1d_103[0][0]   \n",
      "                                                                 global_max_pooling1d_104[0][0]   \n",
      "                                                                 global_max_pooling1d_105[0][0]   \n",
      "                                                                 global_max_pooling1d_106[0][0]   \n",
      "                                                                 global_max_pooling1d_107[0][0]   \n",
      "                                                                 global_max_pooling1d_108[0][0]   \n",
      "                                                                 global_max_pooling1d_109[0][0]   \n",
      "                                                                 global_max_pooling1d_110[0][0]   \n",
      "                                                                 global_max_pooling1d_111[0][0]   \n",
      "                                                                 global_max_pooling1d_112[0][0]   \n",
      "                                                                 global_max_pooling1d_113[0][0]   \n",
      "                                                                 global_max_pooling1d_114[0][0]   \n",
      "                                                                 global_max_pooling1d_115[0][0]   \n",
      "                                                                 global_max_pooling1d_116[0][0]   \n",
      "                                                                 global_max_pooling1d_117[0][0]   \n",
      "                                                                 global_max_pooling1d_118[0][0]   \n",
      "                                                                 global_max_pooling1d_119[0][0]   \n",
      "                                                                 global_max_pooling1d_120[0][0]   \n",
      "__________________________________________________________________________________________________\n",
      "dropout_6 (Dropout)             (None, 40)           0           concatenate_3[0][0]              \n",
      "__________________________________________________________________________________________________\n",
      "dense_5 (Dense)                 (None, 30)           1230        dropout_6[0][0]                  \n",
      "__________________________________________________________________________________________________\n",
      "dense_6 (Dense)                 (None, 1)            31          dense_5[0][0]                    \n",
      "__________________________________________________________________________________________________\n",
      "activation_3 (Activation)       (None, 1)            0           dense_6[0][0]                    \n",
      "==================================================================================================\n",
      "Total params: 20,029,301\n",
      "Trainable params: 20,029,301\n",
      "Non-trainable params: 0\n",
      "__________________________________________________________________________________________________\n"
     ]
    }
   ],
   "source": [
    "model.layers[1].trainable = True\n",
    "adam = optimizers.Adam(lr=0.0001)\n",
    "model.compile(loss='binary_crossentropy', optimizer=adam)\n",
    "model.summary()\n",
    "model.save('model/model_complite.h5py')"
   ]
  },
  {
   "cell_type": "code",
   "execution_count": null,
   "metadata": {},
   "outputs": [],
   "source": []
  },
  {
   "cell_type": "code",
   "execution_count": null,
   "metadata": {},
   "outputs": [],
   "source": [
    "model.compile(loss='binary_crossentropy', optimizer='adam', metrics=[precision, recall, f1])"
   ]
  },
  {
   "cell_type": "markdown",
   "metadata": {},
   "source": [
    "# Тренировка модели"
   ]
  },
  {
   "cell_type": "code",
   "execution_count": null,
   "metadata": {},
   "outputs": [],
   "source": [
    "checkpoint = ModelCheckpoint(\"cnn/cnn-trainable-{epoch:02d}-{val_f1:.2f}.hdf5\", \n",
    "                             monitor='val_f1', save_best_only=True, mode='max', period=1)\n",
    "\n",
    "history_trainable = model.fit(x_train_seq, y_train, batch_size=32, epochs=5, validation_split=0.25, callbacks = [checkpoint])"
   ]
  },
  {
   "cell_type": "code",
   "execution_count": null,
   "metadata": {
    "scrolled": true
   },
   "outputs": [],
   "source": [
    "plot_history(history_trainable)"
   ]
  },
  {
   "cell_type": "code",
   "execution_count": null,
   "metadata": {},
   "outputs": [],
   "source": [
    "predicted = np.round(model.predict(x_test_seq))\n",
    "print(classification_report(y_test, predicted, digits=5))"
   ]
  },
  {
   "cell_type": "markdown",
   "metadata": {},
   "source": [
    "# загружаем обученную модель"
   ]
  },
  {
   "cell_type": "code",
   "execution_count": null,
   "metadata": {},
   "outputs": [],
   "source": [
    "#model = load_model('cnn/model_complite.h5py')"
   ]
  },
  {
   "cell_type": "code",
   "execution_count": null,
   "metadata": {},
   "outputs": [],
   "source": [
    "model.load_weights('cnn/cnn-trainable-03-0.78.hdf5')"
   ]
  },
  {
   "cell_type": "code",
   "execution_count": null,
   "metadata": {},
   "outputs": [],
   "source": [
    "GetAnalis('завтра празник')"
   ]
  },
  {
   "cell_type": "code",
   "execution_count": null,
   "metadata": {},
   "outputs": [],
   "source": []
  },
  {
   "cell_type": "code",
   "execution_count": null,
   "metadata": {},
   "outputs": [],
   "source": []
  },
  {
   "cell_type": "code",
   "execution_count": null,
   "metadata": {},
   "outputs": [],
   "source": []
  }
 ],
 "metadata": {
  "kernelspec": {
   "display_name": "Python 3",
   "language": "python",
   "name": "python3"
  },
  "language_info": {
   "codemirror_mode": {
    "name": "ipython",
    "version": 3
   },
   "file_extension": ".py",
   "mimetype": "text/x-python",
   "name": "python",
   "nbconvert_exporter": "python",
   "pygments_lexer": "ipython3",
   "version": "3.7.3"
  }
 },
 "nbformat": 4,
 "nbformat_minor": 2
}
